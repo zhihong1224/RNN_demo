{
  "nbformat": 4,
  "nbformat_minor": 0,
  "metadata": {
    "colab": {
      "name": "Simple_RNN.ipynb",
      "provenance": [],
      "collapsed_sections": [],
      "authorship_tag": "ABX9TyNXHyGqGZMq8TZkPb4jI52N",
      "include_colab_link": true
    },
    "kernelspec": {
      "name": "python3",
      "display_name": "Python 3"
    },
    "accelerator": "GPU"
  },
  "cells": [
    {
      "cell_type": "markdown",
      "metadata": {
        "id": "view-in-github",
        "colab_type": "text"
      },
      "source": [
        "<a href=\"https://colab.research.google.com/github/zhihong1224/RNN_demo/blob/master/Simple_RNN.ipynb\" target=\"_parent\"><img src=\"https://colab.research.google.com/assets/colab-badge.svg\" alt=\"Open In Colab\"/></a>"
      ]
    },
    {
      "cell_type": "markdown",
      "metadata": {
        "id": "aFQlXZ-jQF-j",
        "colab_type": "text"
      },
      "source": [
        "# 1 Setup"
      ]
    },
    {
      "cell_type": "code",
      "metadata": {
        "id": "6ClbwwXLOvSx",
        "colab_type": "code",
        "colab": {}
      },
      "source": [
        "import numpy as np\n",
        "import os\n",
        "import torch\n",
        "from torch import nn,optim\n",
        "import matplotlib.pyplot as plt\n",
        "%matplotlib inline\n",
        "\n",
        "device=torch.device('cuda' if torch.cuda.is_available() else 'cpu')"
      ],
      "execution_count": 0,
      "outputs": []
    },
    {
      "cell_type": "markdown",
      "metadata": {
        "id": "22SxbtvfQmFD",
        "colab_type": "text"
      },
      "source": [
        "# 2 数据"
      ]
    },
    {
      "cell_type": "code",
      "metadata": {
        "id": "TKJz4l0GQUzJ",
        "colab_type": "code",
        "outputId": "ae5d61a4-ae31-4954-f219-512a26c72b7a",
        "colab": {
          "base_uri": "https://localhost:8080/",
          "height": 338
        }
      },
      "source": [
        "plt.figure(figsize=(8,5))\n",
        "seq_length=20\n",
        "time_steps=np.linspace(0,np.pi,seq_length+1)\n",
        "data=np.sin(time_steps)\n",
        "data.resize((seq_length+1,1))\n",
        "\n",
        "x=data[:-1]\n",
        "y=data[1:]\n",
        "\n",
        "plt.plot(time_steps[1:],x,'r.',label='input,x')\n",
        "plt.plot(time_steps[1:],y,'b.',label='target,y')\n",
        "\n",
        "plt.legend()"
      ],
      "execution_count": 0,
      "outputs": [
        {
          "output_type": "execute_result",
          "data": {
            "text/plain": [
              "<matplotlib.legend.Legend at 0x7fc1a2b31cf8>"
            ]
          },
          "metadata": {
            "tags": []
          },
          "execution_count": 7
        },
        {
          "output_type": "display_data",
          "data": {
            "image/png": "[encoded data removed]",
            "text/plain": [
              "<Figure size 576x360 with 1 Axes>"
            ]
          },
          "metadata": {
            "tags": [],
            "needs_background": "light"
          }
        }
      ]
    },
    {
      "cell_type": "markdown",
      "metadata": {
        "id": "tR_jDg2URbD0",
        "colab_type": "text"
      },
      "source": [
        "# 3 模型定义"
      ]
    },
    {
      "cell_type": "code",
      "metadata": {
        "id": "ZTJI28AcROvJ",
        "colab_type": "code",
        "colab": {}
      },
      "source": [
        "class RNN(nn.Module):\n",
        "  def __init__(self,input_size,output_size,hidden_dim,n_layers):\n",
        "    super(RNN,self).__init__()\n",
        "    self.hidden_dim=hidden_dim\n",
        "    self.rnn=nn.RNN(input_size,hidden_dim,n_layers,batch_first=True)\n",
        "    self.fc=nn.Linear(hidden_dim,output_size)\n",
        "  def forward(self,x,hidden):\n",
        "    r_out,hidden=self.rnn(x,hidden)\n",
        "    r_out=r_out.view(-1,self.hidden_dim)\n",
        "    output=self.fc(r_out)\n",
        "    return output,hidden"
      ],
      "execution_count": 0,
      "outputs": []
    },
    {
      "cell_type": "code",
      "metadata": {
        "id": "LJFfQ588Twjn",
        "colab_type": "code",
        "outputId": "026d4e98-9655-4720-d9fc-b21533741758",
        "colab": {
          "base_uri": "https://localhost:8080/",
          "height": 52
        }
      },
      "source": [
        "# 测试模型\n",
        "test_rnn=RNN(1,1,10,2)\n",
        "test_input=torch.tensor(data,dtype=torch.float32).unsqueeze(0)\n",
        "test_out,test_h=test_rnn(test_input,None)\n",
        "print('output size:',test_out.shape)\n",
        "print('hidden state size:',test_h.shape)"
      ],
      "execution_count": 0,
      "outputs": [
        {
          "output_type": "stream",
          "text": [
            "output size: torch.Size([21, 1])\n",
            "hidden state size: torch.Size([2, 1, 10])\n"
          ],
          "name": "stdout"
        }
      ]
    },
    {
      "cell_type": "markdown",
      "metadata": {
        "id": "zX4lKntOU6C4",
        "colab_type": "text"
      },
      "source": [
        "# 4 训练模型"
      ]
    },
    {
      "cell_type": "code",
      "metadata": {
        "id": "RUroHAo9UVk-",
        "colab_type": "code",
        "outputId": "03aec380-c071-4f0a-d438-7dbb8b13a723",
        "colab": {
          "base_uri": "https://localhost:8080/",
          "height": 88
        }
      },
      "source": [
        "input_size=1\n",
        "output_size=1\n",
        "hidden_dim=32\n",
        "n_layers=1\n",
        "rnn=RNN(input_size,output_size,hidden_dim,n_layers)\n",
        "print(rnn)"
      ],
      "execution_count": 0,
      "outputs": [
        {
          "output_type": "stream",
          "text": [
            "RNN(\n",
            "  (rnn): RNN(1, 32, batch_first=True)\n",
            "  (fc): Linear(in_features=32, out_features=1, bias=True)\n",
            ")\n"
          ],
          "name": "stdout"
        }
      ]
    },
    {
      "cell_type": "code",
      "metadata": {
        "id": "mMMPzvg5VaIk",
        "colab_type": "code",
        "colab": {}
      },
      "source": [
        "def train(rnn,n_steps,print_every):\n",
        "  criterion=nn.MSELoss()\n",
        "  optimizer=optim.Adam(rnn.parameters(),lr=0.01)\n",
        "\n",
        "  hidden=None\n",
        "\n",
        "  for batch_i,step in enumerate(range(n_steps)):\n",
        "    time_steps=np.linspace(step*np.pi,(step+1)*np.pi,seq_length+1)\n",
        "    data=np.sin(time_steps)\n",
        "    data.resize((seq_length+1,1))\n",
        "\n",
        "    x=data[:-1]\n",
        "    y=data[1:]\n",
        "\n",
        "    x_tensor=torch.tensor(x,dtype=torch.float32).unsqueeze(0)\n",
        "    y_tensor=torch.tensor(y,dtype=torch.float32)\n",
        "\n",
        "    prediction,hidden=rnn(x_tensor,hidden)\n",
        "\n",
        "    hidden=hidden.data\n",
        "\n",
        "    loss=criterion(prediction,y_tensor)\n",
        "\n",
        "    optimizer.zero_grad()\n",
        "    loss.backward()\n",
        "    optimizer.step()\n",
        "\n",
        "    if batch_i%print_every==0:\n",
        "      print('loss:',loss.item())\n",
        "      plt.plot(time_steps[1:],x,'r.')\n",
        "      plt.plot(time_steps[1:],prediction.data.numpy().flatten(),'b.')\n",
        "      plt.show()\n",
        "  return rnn"
      ],
      "execution_count": 0,
      "outputs": []
    },
    {
      "cell_type": "code",
      "metadata": {
        "id": "7bcKF6hxZZeJ",
        "colab_type": "code",
        "outputId": "cd010234-3731-4733-dc60-0740b1d4e98a",
        "colab": {
          "base_uri": "https://localhost:8080/",
          "height": 1000
        }
      },
      "source": [
        "n_steps=125\n",
        "print_every=15\n",
        "trained_rnn=train(rnn,n_steps,print_every)"
      ],
      "execution_count": 0,
      "outputs": [
        {
          "output_type": "stream",
          "text": [
            "loss: 0.004253261722624302\n"
          ],
          "name": "stdout"
        },
        {
          "output_type": "display_data",
          "data": {
            "image/png": "[encoded data removed]",
            "text/plain": [
              "<Figure size 432x288 with 1 Axes>"
            ]
          },
          "metadata": {
            "tags": [],
            "needs_background": "light"
          }
        },
        {
          "output_type": "stream",
          "text": [
            "loss: 0.008081917650997639\n"
          ],
          "name": "stdout"
        },
        {
          "output_type": "display_data",
          "data": {
            "image/png": "[encoded data removed]",
            "text/plain": [
              "<Figure size 432x288 with 1 Axes>"
            ]
          },
          "metadata": {
            "tags": [],
            "needs_background": "light"
          }
        },
        {
          "output_type": "stream",
          "text": [
            "loss: 0.0020139124244451523\n"
          ],
          "name": "stdout"
        },
        {
          "output_type": "display_data",
          "data": {
            "image/png": "[encoded data removed]",
            "text/plain": [
              "<Figure size 432x288 with 1 Axes>"
            ]
          },
          "metadata": {
            "tags": [],
            "needs_background": "light"
          }
        },
        {
          "output_type": "stream",
          "text": [
            "loss: 0.00026635508402250707\n"
          ],
          "name": "stdout"
        },
        {
          "output_type": "display_data",
          "data": {
            "image/png": "[encoded data removed]",
            "text/plain": [
              "<Figure size 432x288 with 1 Axes>"
            ]
          },
          "metadata": {
            "tags": [],
            "needs_background": "light"
          }
        },
        {
          "output_type": "stream",
          "text": [
            "loss: 4.90423190058209e-05\n"
          ],
          "name": "stdout"
        },
        {
          "output_type": "display_data",
          "data": {
            "image/png": "[encoded data removed]",
            "text/plain": [
              "<Figure size 432x288 with 1 Axes>"
            ]
          },
          "metadata": {
            "tags": [],
            "needs_background": "light"
          }
        },
        {
          "output_type": "stream",
          "text": [
            "loss: 8.15051535028033e-05\n"
          ],
          "name": "stdout"
        },
        {
          "output_type": "display_data",
          "data": {
            "image/png": "[encoded data removed]",
            "text/plain": [
              "<Figure size 432x288 with 1 Axes>"
            ]
          },
          "metadata": {
            "tags": [],
            "needs_background": "light"
          }
        },
        {
          "output_type": "stream",
          "text": [
            "loss: 3.115496292593889e-05\n"
          ],
          "name": "stdout"
        },
        {
          "output_type": "display_data",
          "data": {
            "image/png": "[encoded data removed]",
            "text/plain": [
              "<Figure size 432x288 with 1 Axes>"
            ]
          },
          "metadata": {
            "tags": [],
            "needs_background": "light"
          }
        },
        {
          "output_type": "stream",
          "text": [
            "loss: 4.6392415242735296e-05\n"
          ],
          "name": "stdout"
        },
        {
          "output_type": "display_data",
          "data": {
            "image/png": "[encoded data removed]",
            "text/plain": [
              "<Figure size 432x288 with 1 Axes>"
            ]
          },
          "metadata": {
            "tags": [],
            "needs_background": "light"
          }
        },
        {
          "output_type": "stream",
          "text": [
            "loss: 2.285292612214107e-05\n"
          ],
          "name": "stdout"
        },
        {
          "output_type": "display_data",
          "data": {
            "image/png": "[encoded data removed]",
            "text/plain": [
              "<Figure size 432x288 with 1 Axes>"
            ]
          },
          "metadata": {
            "tags": [],
            "needs_background": "light"
          }
        }
      ]
    },
    {
      "cell_type": "code",
      "metadata": {
        "id": "qOLEsNv6dRVK",
        "colab_type": "code",
        "outputId": "14db2283-b329-40a4-a1ac-99ad8644f92d",
        "colab": {
          "base_uri": "https://localhost:8080/",
          "height": 283
        }
      },
      "source": [
        "step=30\n",
        "seq_length=20\n",
        "time_steps=np.linspace(step*np.pi,(step+1)*np.pi,seq_length+1)\n",
        "data=np.sin(time_steps)\n",
        "data.resize((seq_length+1,1))\n",
        "\n",
        "x=data[:-1]\n",
        "y=data[1:]\n",
        "\n",
        "x_tensor=torch.tensor(x,dtype=torch.float32).unsqueeze(0)\n",
        "y_tensor=torch.tensor(y,dtype=torch.float32)\n",
        "with torch.no_grad():\n",
        "  prediction,hidden=rnn(x_tensor,None)\n",
        "\n",
        "hidden=hidden.data\n",
        "\n",
        "plt.plot(time_steps[1:],x,'r.')\n",
        "plt.plot(time_steps[1:],prediction.data.numpy().flatten(),'b.')"
      ],
      "execution_count": 0,
      "outputs": [
        {
          "output_type": "execute_result",
          "data": {
            "text/plain": [
              "[<matplotlib.lines.Line2D at 0x7fc1f877bfd0>]"
            ]
          },
          "metadata": {
            "tags": []
          },
          "execution_count": 59
        },
        {
          "output_type": "display_data",
          "data": {
            "image/png": "[encoded data removed]",
            "text/plain": [
              "<Figure size 432x288 with 1 Axes>"
            ]
          },
          "metadata": {
            "tags": [],
            "needs_background": "light"
          }
        }
      ]
    },
    {
      "cell_type": "markdown",
      "metadata": {
        "id": "mb2GifwEVuJM",
        "colab_type": "text"
      },
      "source": [
        "> 为什么这里预测效果不好？ 未解决"
      ]
    },
    {
      "cell_type": "code",
      "metadata": {
        "id": "5UXOkk-4gele",
        "colab_type": "code",
        "colab": {}
      },
      "source": [
        ""
      ],
      "execution_count": 0,
      "outputs": []
    }
  ]
}